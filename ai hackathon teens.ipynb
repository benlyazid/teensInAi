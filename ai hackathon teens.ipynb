{
  "nbformat": 4,
  "nbformat_minor": 0,
  "metadata": {
    "colab": {
      "provenance": []
    },
    "kernelspec": {
      "name": "python3",
      "display_name": "Python 3"
    },
    "language_info": {
      "name": "python"
    }
  },
  "cells": [
    {
      "cell_type": "markdown",
      "source": [
        "**import requests that is a library that allows us to make HTTP requests**"
      ],
      "metadata": {
        "id": "ebWTPkhBMKQT"
      }
    },
    {
      "cell_type": "code",
      "source": [
        "import requests\n"
      ],
      "metadata": {
        "id": "12lUo7zJMvIw"
      },
      "execution_count": 16,
      "outputs": []
    },
    {
      "cell_type": "markdown",
      "source": [
        "**Scan the Code Bare of the object to get the information about it using OCR model APIt**"
      ],
      "metadata": {
        "id": "y6EwMiGvm1i9"
      }
    },
    {
      "cell_type": "markdown",
      "source": [
        "**We will use the Barcode of Coca-cola - 330 mL\n",
        " in our example**"
      ],
      "metadata": {
        "id": "Kl-Nr8aM55Xg"
      }
    },
    {
      "cell_type": "code",
      "source": [
        "import requests\n",
        "from PIL import Image\n",
        "image_path = \"/content/download.png\"\n",
        "api_url = 'https://api.api-ninjas.com/v1/imagetotext'\n",
        "image_file_descriptor = open(image_path, 'rb')\n",
        "im = Image.open(image_path)\n",
        "files = {'image': image_file_descriptor}\n",
        "r = requests.post(api_url, files=files, headers={'X-Api-Key': '8ZZrXrgsu0rJOhg2UAcKUg==ZBDYl28BZIlkVkr8'})\n",
        "print(r.json())\n"
      ],
      "metadata": {
        "colab": {
          "base_uri": "https://localhost:8080/"
        },
        "id": "wUqZEsPWnAx6",
        "outputId": "a48c794c-8235-4d33-ba68-cc563a751627"
      },
      "execution_count": 17,
      "outputs": [
        {
          "output_type": "stream",
          "name": "stdout",
          "text": [
            "[{'text': '5449000214911', 'bounding_box': {'x1': 68, 'y1': 133, 'x2': 248, 'y2': 148}}]\n"
          ]
        }
      ]
    },
    {
      "cell_type": "code",
      "source": [
        "im"
      ],
      "metadata": {
        "colab": {
          "base_uri": "https://localhost:8080/",
          "height": 176
        },
        "id": "-EjUkhJL7jmS",
        "outputId": "bfe9cc20-e7e2-4028-ea25-4376f7ec92ce"
      },
      "execution_count": 18,
      "outputs": [
        {
          "output_type": "execute_result",
          "data": {
            "text/plain": [
              "<PIL.PngImagePlugin.PngImageFile image mode=P size=318x159 at 0x7F75E482FD00>"
            ],
            "image/png": "[encoded data removed]"
          },
          "metadata": {},
          "execution_count": 18
        }
      ]
    },
    {
      "cell_type": "markdown",
      "source": [
        "**transform the return to valid barcode**"
      ],
      "metadata": {
        "id": "c_2qzkwk0xJM"
      }
    },
    {
      "cell_type": "code",
      "source": [
        "barcode = ''\n",
        "for i in r.json():\n",
        "    for key, value in i.items():\n",
        "        if key == 'text':\n",
        "            for c in value:\n",
        "                if c.isdigit():\n",
        "                    barcode += c\n",
        "print(barcode)"
      ],
      "metadata": {
        "colab": {
          "base_uri": "https://localhost:8080/"
        },
        "id": "CRn9izgE1lvv",
        "outputId": "cb865f74-4787-4fa3-f9c5-04710bd92bf7"
      },
      "execution_count": 19,
      "outputs": [
        {
          "output_type": "stream",
          "name": "stdout",
          "text": [
            "5449000214911\n"
          ]
        }
      ]
    },
    {
      "cell_type": "markdown",
      "source": [
        "**Set the ingredient that we have allergy from it**"
      ],
      "metadata": {
        "id": "tcu2I9HJM0ly"
      }
    },
    {
      "cell_type": "code",
      "source": [
        "ingredient = 'sugars'"
      ],
      "metadata": {
        "id": "ueoM7_ZjNNY3"
      },
      "execution_count": 20,
      "outputs": []
    },
    {
      "cell_type": "markdown",
      "source": [
        "**Get the information about theobject we whant using the barcode**"
      ],
      "metadata": {
        "id": "xJnWtGOCNSDn"
      }
    },
    {
      "cell_type": "code",
      "source": [
        "r = requests.get(\"https://world.openfoodfacts.org/api/v0/product/\" + barcode)\n",
        "nutriments = r.json()['product']['nutriments']\n",
        "check = False\n",
        "print('{:<20} {:<20}'.format('key', 'value'))\n",
        "print('{:<20} {:<20}'.format('---', '-----')) \n",
        "for key, value in nutriments.items():\n",
        "    if key == ingredient:\n",
        "      check = True\n",
        "      print('\\033[91m' + '{:<20} {:<20}'.format(key, value) + '\\033[0m')\n",
        "    else:\n",
        "      print('{:<20} {:<20}'.format(key, value))\n",
        "\n",
        "    print()\n",
        "if check:\n",
        "      print('+------------------------+')\n",
        "      print('\\033[91m' + ' Warning !!' + '\\033[0m')\n",
        "      print('\\033[91m' + ' you should not eat this Food' + '\\033[0m')\n",
        "else:\n",
        "    print('+------------------------+')\n",
        "    print('\\033[92m' + ' This Food is safe' + '\\033[0m')\n"
      ],
      "metadata": {
        "colab": {
          "base_uri": "https://localhost:8080/"
        },
        "id": "d_D9hTep4Mqf",
        "outputId": "f2156648-e91c-4849-fda8-bf2f119c16a6"
      },
      "execution_count": 21,
      "outputs": [
        {
          "output_type": "stream",
          "name": "stdout",
          "text": [
            "key                  value               \n",
            "---                  -----               \n",
            "carbohydrates        10.6                \n",
            "\n",
            "carbohydrates_100g   10.6                \n",
            "\n",
            "carbohydrates_serving 35                  \n",
            "\n",
            "carbohydrates_unit   g                   \n",
            "\n",
            "carbohydrates_value  10.6                \n",
            "\n",
            "energy               180                 \n",
            "\n",
            "energy-kcal          42                  \n",
            "\n",
            "energy-kcal_100g     42                  \n",
            "\n",
            "energy-kcal_serving  139                 \n",
            "\n",
            "energy-kcal_unit     kcal                \n",
            "\n",
            "energy-kcal_value    42                  \n",
            "\n",
            "energy-kcal_value_computed 42.4                \n",
            "\n",
            "energy-kj            180                 \n",
            "\n",
            "energy-kj_100g       180                 \n",
            "\n",
            "energy-kj_serving    594                 \n",
            "\n",
            "energy-kj_unit       kJ                  \n",
            "\n",
            "energy-kj_value      180                 \n",
            "\n",
            "energy-kj_value_computed 180.2               \n",
            "\n",
            "energy_100g          180                 \n",
            "\n",
            "energy_serving       594                 \n",
            "\n",
            "energy_unit          kJ                  \n",
            "\n",
            "energy_value         180                 \n",
            "\n",
            "fat                  0                   \n",
            "\n",
            "fat_100g             0                   \n",
            "\n",
            "fat_serving          0                   \n",
            "\n",
            "fat_unit             g                   \n",
            "\n",
            "fat_value            0                   \n",
            "\n",
            "fruits-vegetables-nuts-estimate-from-ingredients_100g 0                   \n",
            "\n",
            "fruits-vegetables-nuts-estimate-from-ingredients_serving 0                   \n",
            "\n",
            "nova-group           4                   \n",
            "\n",
            "nova-group_100g      4                   \n",
            "\n",
            "nova-group_serving   4                   \n",
            "\n",
            "nutrition-score-fr   14                  \n",
            "\n",
            "nutrition-score-fr_100g 14                  \n",
            "\n",
            "proteins             0                   \n",
            "\n",
            "proteins_100g        0                   \n",
            "\n",
            "proteins_serving     0                   \n",
            "\n",
            "proteins_unit        g                   \n",
            "\n",
            "proteins_value       0                   \n",
            "\n",
            "salt                 0                   \n",
            "\n",
            "salt_100g            0                   \n",
            "\n",
            "salt_serving         0                   \n",
            "\n",
            "salt_unit            g                   \n",
            "\n",
            "salt_value           0                   \n",
            "\n",
            "saturated-fat        0                   \n",
            "\n",
            "saturated-fat_100g   0                   \n",
            "\n",
            "saturated-fat_serving 0                   \n",
            "\n",
            "saturated-fat_unit   g                   \n",
            "\n",
            "saturated-fat_value  0                   \n",
            "\n",
            "sodium               0                   \n",
            "\n",
            "sodium_100g          0                   \n",
            "\n",
            "sodium_serving       0                   \n",
            "\n",
            "sodium_unit          g                   \n",
            "\n",
            "sodium_value         0                   \n",
            "\n",
            "\u001b[91msugars               10.6                \u001b[0m\n",
            "\n",
            "sugars_100g          10.6                \n",
            "\n",
            "sugars_serving       35                  \n",
            "\n",
            "sugars_unit          g                   \n",
            "\n",
            "sugars_value         10.6                \n",
            "\n",
            "+------------------------+\n",
            "\u001b[91m Warning !!\u001b[0m\n",
            "\u001b[91m you should not eat this Food\u001b[0m\n"
          ]
        }
      ]
    },
    {
      "cell_type": "code",
      "execution_count": 21,
      "metadata": {
        "id": "yZD00JmbL5Zu"
      },
      "outputs": [],
      "source": []
    }
  ]
}